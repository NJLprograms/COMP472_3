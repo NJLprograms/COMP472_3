{
 "metadata": {
  "language_info": {
   "codemirror_mode": {
    "name": "ipython",
    "version": 3
   },
   "file_extension": ".py",
   "mimetype": "text/x-python",
   "name": "python",
   "nbconvert_exporter": "python",
   "pygments_lexer": "ipython3",
   "version": "3.8.3-final"
  },
  "orig_nbformat": 2,
  "kernelspec": {
   "name": "python3",
   "display_name": "Python 3.8.3 64-bit ('anaconda3': virtualenv)",
   "metadata": {
    "interpreter": {
     "hash": "e0d100da2a8ea264dfb47a8430a9e30a2afabd950adf81b1e01ba12eb2b32acc"
    }
   }
  }
 },
 "nbformat": 4,
 "nbformat_minor": 2,
 "cells": [
  {
   "cell_type": "code",
   "execution_count": 10,
   "metadata": {
    "tags": []
   },
   "outputs": [
    {
     "output_type": "stream",
     "name": "stdout",
     "text": [
      "399\n"
     ]
    }
   ],
   "source": [
    "from sklearn.feature_extraction.text import CountVectorizer\n",
    "from utils import read_ov\n",
    "\n",
    "vectorizer = CountVectorizer(lowercase=True)\n",
    "ov = read_ov('covid_training.tsv')\n",
    "\n",
    "rows = [row for row in ov.to_numpy()]\n",
    "\n",
    "tweet_ids = [row[0] for row in rows]\n",
    "tweets = [row[1].lower() for row in rows]\n",
    "q1_labels = [row[2] for row in rows]\n",
    "\n",
    "OV_tweets = vectorizer.fit_transform(tweets)\n",
    "\n",
    "# print(vectorizer.get_feature_names())\n",
    "# print(OV_tweets.toarray())\n",
    "print(len(q1_labels))"
   ]
  },
  {
   "cell_type": "code",
   "execution_count": 1,
   "metadata": {
    "tags": []
   },
   "outputs": [
    {
     "output_type": "execute_result",
     "data": {
      "text/plain": [
       "[{'tweet_id': 1236932313642143745,\n",
       "  'class': 'yes',\n",
       "  'score': -18.62182324791722},\n",
       " {'tweet_id': 1236289649737371648, 'class': 'yes', 'score': -16.4740981684733},\n",
       " {'tweet_id': 1237501242567544835,\n",
       "  'class': 'yes',\n",
       "  'score': -40.80580945465129},\n",
       " {'tweet_id': 1237029903112888321,\n",
       "  'class': 'yes',\n",
       "  'score': -19.138417356953276},\n",
       " {'tweet_id': 1237270988334592001,\n",
       "  'class': 'yes',\n",
       "  'score': -21.695026030192277},\n",
       " {'tweet_id': 1237477595916251137,\n",
       "  'class': 'yes',\n",
       "  'score': -15.065949083540175},\n",
       " {'tweet_id': 1236936132715143168,\n",
       "  'class': 'yes',\n",
       "  'score': -18.628642158847324},\n",
       " {'tweet_id': 1237138362261258244,\n",
       "  'class': 'yes',\n",
       "  'score': -18.28643238615634},\n",
       " {'tweet_id': 1236601634454528000,\n",
       "  'class': 'yes',\n",
       "  'score': -27.488424405435072},\n",
       " {'tweet_id': 1237204103970689026,\n",
       "  'class': 'yes',\n",
       "  'score': -15.282940957478841},\n",
       " {'tweet_id': 1237015260571168768,\n",
       "  'class': 'yes',\n",
       "  'score': -27.209433496441793},\n",
       " {'tweet_id': 1236848918849294336,\n",
       "  'class': 'yes',\n",
       "  'score': -4.608361517061789},\n",
       " {'tweet_id': 1237034836893650945,\n",
       "  'class': 'yes',\n",
       "  'score': -34.63723294666328},\n",
       " {'tweet_id': 1237503272555909120,\n",
       "  'class': 'yes',\n",
       "  'score': -34.72678537639247},\n",
       " {'tweet_id': 1236181131147522049,\n",
       "  'class': 'yes',\n",
       "  'score': -5.641342637674666},\n",
       " {'tweet_id': 1236751849769676801,\n",
       "  'class': 'yes',\n",
       "  'score': -36.226428786704986},\n",
       " {'tweet_id': 1236817440606056448,\n",
       "  'class': 'yes',\n",
       "  'score': -13.046374668883193},\n",
       " {'tweet_id': 1237283622589206530,\n",
       "  'class': 'yes',\n",
       "  'score': -28.068936381369365},\n",
       " {'tweet_id': 1236490588276523008,\n",
       "  'class': 'yes',\n",
       "  'score': -15.863149297138545},\n",
       " {'tweet_id': 1237611886905937920,\n",
       "  'class': 'yes',\n",
       "  'score': -9.945179206392359},\n",
       " {'tweet_id': 1236833678380027904,\n",
       "  'class': 'yes',\n",
       "  'score': -19.197423346866472},\n",
       " {'tweet_id': 1236766442571337729,\n",
       "  'class': 'yes',\n",
       "  'score': -3.517975155601989},\n",
       " {'tweet_id': 1236973525866602496,\n",
       "  'class': 'yes',\n",
       "  'score': -31.89984808601334},\n",
       " {'tweet_id': 1236321657096032256,\n",
       "  'class': 'no',\n",
       "  'score': -16.353024775315763},\n",
       " {'tweet_id': 1237585675571974145,\n",
       "  'class': 'yes',\n",
       "  'score': -23.556891585250312},\n",
       " {'tweet_id': 1237070550679379968,\n",
       "  'class': 'yes',\n",
       "  'score': -21.440546340550192},\n",
       " {'tweet_id': 1237235176452706304,\n",
       "  'class': 'yes',\n",
       "  'score': -32.792354907887045},\n",
       " {'tweet_id': 1237412870192640005,\n",
       "  'class': 'no',\n",
       "  'score': -30.114418925127904},\n",
       " {'tweet_id': 1237219650456489984,\n",
       "  'class': 'yes',\n",
       "  'score': -43.71722000383227},\n",
       " {'tweet_id': 1237305169932472320,\n",
       "  'class': 'yes',\n",
       "  'score': -16.12818342593966},\n",
       " {'tweet_id': 1237137755651616770,\n",
       "  'class': 'yes',\n",
       "  'score': -4.428415969339516},\n",
       " {'tweet_id': 1237122234675859456,\n",
       "  'class': 'yes',\n",
       "  'score': -15.234877656234236},\n",
       " {'tweet_id': 1237361576480473088, 'class': 'no', 'score': -11.97919757732706},\n",
       " {'tweet_id': 1237130970396078084,\n",
       "  'class': 'yes',\n",
       "  'score': -1.942472074442942},\n",
       " {'tweet_id': 1237543674675728386,\n",
       "  'class': 'yes',\n",
       "  'score': -37.29098648407423},\n",
       " {'tweet_id': 1237010126881447936,\n",
       "  'class': 'yes',\n",
       "  'score': -7.6680351349622144},\n",
       " {'tweet_id': 1237040928092639232,\n",
       "  'class': 'yes',\n",
       "  'score': -31.813612968904582},\n",
       " {'tweet_id': 1237608143519014913, 'class': 'yes', 'score': -8.64156041912087},\n",
       " {'tweet_id': 1237024126889385986, 'class': 'yes', 'score': -2.94854812885764},\n",
       " {'tweet_id': 1236759873884479490, 'class': 'no', 'score': -18.38547942776804},\n",
       " {'tweet_id': 1237015945186398208,\n",
       "  'class': 'yes',\n",
       "  'score': -17.60365492905191},\n",
       " {'tweet_id': 1237124933211348992,\n",
       "  'class': 'yes',\n",
       "  'score': -29.291117364142835},\n",
       " {'tweet_id': 1237330231293288449,\n",
       "  'class': 'yes',\n",
       "  'score': -39.596614301341134},\n",
       " {'tweet_id': 1237460074123190273,\n",
       "  'class': 'yes',\n",
       "  'score': -29.76989196053944},\n",
       " {'tweet_id': 1236386465086615557,\n",
       "  'class': 'no',\n",
       "  'score': -18.317052516979455},\n",
       " {'tweet_id': 1237047503029178370,\n",
       "  'class': 'yes',\n",
       "  'score': -35.42341451150837},\n",
       " {'tweet_id': 1237263600584216577,\n",
       "  'class': 'yes',\n",
       "  'score': -20.68157687195043},\n",
       " {'tweet_id': 1236509612142145536,\n",
       "  'class': 'yes',\n",
       "  'score': -18.318304579222882},\n",
       " {'tweet_id': 1237326787111239681,\n",
       "  'class': 'yes',\n",
       "  'score': -19.52433348125674},\n",
       " {'tweet_id': 1237373539176628225,\n",
       "  'class': 'yes',\n",
       "  'score': -28.181236828575468},\n",
       " {'tweet_id': 1237562584477265920,\n",
       "  'class': 'yes',\n",
       "  'score': -25.48278492265699},\n",
       " {'tweet_id': 1237077247636496385,\n",
       "  'class': 'yes',\n",
       "  'score': -18.94914429934766},\n",
       " {'tweet_id': 1237560750102556672,\n",
       "  'class': 'yes',\n",
       "  'score': -27.16329438728259},\n",
       " {'tweet_id': 1236973636751425536,\n",
       "  'class': 'yes',\n",
       "  'score': -16.61015845546263},\n",
       " {'tweet_id': 1236992946509094913,\n",
       "  'class': 'yes',\n",
       "  'score': -25.34381685364005}]"
      ]
     },
     "metadata": {},
     "execution_count": 1
    }
   ],
   "source": [
    "from OV_MultinomialNB import OV_MultinomialNB\n",
    "from FV_MultinomialNB import FV_MultinomialNB\n",
    "\n",
    "model = FV_MultinomialNB()\n",
    "model.fit('covid_training.tsv')\n",
    "model.predict('covid_test_public.tsv')"
   ]
  },
  {
   "cell_type": "code",
   "execution_count": 3,
   "metadata": {},
   "outputs": [
    {
     "output_type": "execute_result",
     "data": {
      "text/plain": [
       "{'emily': 'chan'}"
      ]
     },
     "metadata": {},
     "execution_count": 3
    }
   ],
   "source": [
    "const = {\n",
    "    \"json\": \"file\",\n",
    "    \"emily\": \"chan\"\n",
    "}\n",
    "\n",
    "del const['json']\n",
    "\n",
    "const"
   ]
  },
  {
   "cell_type": "code",
   "execution_count": null,
   "metadata": {},
   "outputs": [],
   "source": []
  }
 ]
}