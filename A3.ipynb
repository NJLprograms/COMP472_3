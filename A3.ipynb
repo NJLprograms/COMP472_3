{
 "metadata": {
  "language_info": {
   "codemirror_mode": {
    "name": "ipython",
    "version": 3
   },
   "file_extension": ".py",
   "mimetype": "text/x-python",
   "name": "python",
   "nbconvert_exporter": "python",
   "pygments_lexer": "ipython3",
   "version": "3.8.3-final"
  },
  "orig_nbformat": 2,
  "kernelspec": {
   "name": "python3",
   "display_name": "Python 3.8.3 64-bit ('anaconda3': virtualenv)",
   "metadata": {
    "interpreter": {
     "hash": "e0d100da2a8ea264dfb47a8430a9e30a2afabd950adf81b1e01ba12eb2b32acc"
    }
   }
  }
 },
 "nbformat": 4,
 "nbformat_minor": 2,
 "cells": [
  {
   "cell_type": "code",
   "execution_count": 10,
   "metadata": {
    "tags": []
   },
   "outputs": [
    {
     "output_type": "stream",
     "name": "stdout",
     "text": [
      "399\n"
     ]
    }
   ],
   "source": [
    "from sklearn.feature_extraction.text import CountVectorizer\n",
    "from utils import read_ov\n",
    "\n",
    "vectorizer = CountVectorizer(lowercase=True)\n",
    "ov = read_ov('covid_training.tsv')\n",
    "\n",
    "rows = [row for row in ov.to_numpy()]\n",
    "\n",
    "tweet_ids = [row[0] for row in rows]\n",
    "tweets = [row[1].lower() for row in rows]\n",
    "q1_labels = [row[2] for row in rows]\n",
    "\n",
    "OV_tweets = vectorizer.fit_transform(tweets)\n",
    "\n",
    "# print(vectorizer.get_feature_names())\n",
    "# print(OV_tweets.toarray())\n",
    "print(len(q1_labels))"
   ]
  },
  {
   "cell_type": "code",
   "execution_count": 2,
   "metadata": {
    "tags": []
   },
   "outputs": [
    {
     "output_type": "stream",
     "name": "stdout",
     "text": [
      "55\n0.5454545454545454\n"
     ]
    },
    {
     "output_type": "execute_result",
     "data": {
      "text/plain": [
       "[{'tweet_id': 1236932313642143745,\n",
       "  'class': 'yes',\n",
       "  'score': -61.86863948565455},\n",
       " {'tweet_id': 1236289649737371648,\n",
       "  'class': 'yes',\n",
       "  'score': -52.379670686766076},\n",
       " {'tweet_id': 1237501242567544835, 'class': 'yes', 'score': -77.2848615563641},\n",
       " {'tweet_id': 1237029903112888321,\n",
       "  'class': 'yes',\n",
       "  'score': -63.04063883288495},\n",
       " {'tweet_id': 1237270988334592001,\n",
       "  'class': 'yes',\n",
       "  'score': -50.17742917426621},\n",
       " {'tweet_id': 1237477595916251137,\n",
       "  'class': 'yes',\n",
       "  'score': -58.23083966650321},\n",
       " {'tweet_id': 1236936132715143168,\n",
       "  'class': 'yes',\n",
       "  'score': -34.752750621685564},\n",
       " {'tweet_id': 1237138362261258244,\n",
       "  'class': 'yes',\n",
       "  'score': -54.478744696159154},\n",
       " {'tweet_id': 1236601634454528000,\n",
       "  'class': 'yes',\n",
       "  'score': -78.93670373774702},\n",
       " {'tweet_id': 1237204103970689026,\n",
       "  'class': 'yes',\n",
       "  'score': -45.96664837704475},\n",
       " {'tweet_id': 1237015260571168768,\n",
       "  'class': 'yes',\n",
       "  'score': -58.302769189879164},\n",
       " {'tweet_id': 1236848918849294336,\n",
       "  'class': 'no',\n",
       "  'score': -24.971227221335397},\n",
       " {'tweet_id': 1237034836893650945,\n",
       "  'class': 'yes',\n",
       "  'score': -97.99321585895231},\n",
       " {'tweet_id': 1237503272555909120, 'class': 'no', 'score': -80.87127395520325},\n",
       " {'tweet_id': 1236181131147522049,\n",
       "  'class': 'no',\n",
       "  'score': -28.574178063924563},\n",
       " {'tweet_id': 1236751849769676801, 'class': 'yes', 'score': -90.1217893588318},\n",
       " {'tweet_id': 1236817440606056448,\n",
       "  'class': 'yes',\n",
       "  'score': -31.41275023460056},\n",
       " {'tweet_id': 1237283622589206530,\n",
       "  'class': 'yes',\n",
       "  'score': -94.03585184302185},\n",
       " {'tweet_id': 1236490588276523008,\n",
       "  'class': 'yes',\n",
       "  'score': -49.15778926606789},\n",
       " {'tweet_id': 1237611886905937920,\n",
       "  'class': 'yes',\n",
       "  'score': -30.635747529763133},\n",
       " {'tweet_id': 1236833678380027904, 'class': 'yes', 'score': -42.867589666085},\n",
       " {'tweet_id': 1236766442571337729, 'class': 'no', 'score': -16.62152279520534},\n",
       " {'tweet_id': 1236973525866602496, 'class': 'yes', 'score': -68.337937360339},\n",
       " {'tweet_id': 1236321657096032256, 'class': 'no', 'score': -44.46676247290539},\n",
       " {'tweet_id': 1237585675571974145,\n",
       "  'class': 'yes',\n",
       "  'score': -44.820939492041134},\n",
       " {'tweet_id': 1237070550679379968,\n",
       "  'class': 'yes',\n",
       "  'score': -69.90922767701439},\n",
       " {'tweet_id': 1237235176452706304, 'class': 'yes', 'score': -86.4009756883038},\n",
       " {'tweet_id': 1237412870192640005,\n",
       "  'class': 'yes',\n",
       "  'score': -76.17698184916439},\n",
       " {'tweet_id': 1237219650456489984,\n",
       "  'class': 'yes',\n",
       "  'score': -90.43518816606314},\n",
       " {'tweet_id': 1237305169932472320,\n",
       "  'class': 'yes',\n",
       "  'score': -34.69937312859277},\n",
       " {'tweet_id': 1237137755651616770,\n",
       "  'class': 'yes',\n",
       "  'score': -17.45003795416857},\n",
       " {'tweet_id': 1237122234675859456, 'class': 'no', 'score': -43.30765252643671},\n",
       " {'tweet_id': 1237361576480473088,\n",
       "  'class': 'yes',\n",
       "  'score': -27.693677766293842},\n",
       " {'tweet_id': 1237130970396078084,\n",
       "  'class': 'yes',\n",
       "  'score': -7.581887512440303},\n",
       " {'tweet_id': 1237543674675728386, 'class': 'no', 'score': -88.53445167945046},\n",
       " {'tweet_id': 1237010126881447936,\n",
       "  'class': 'yes',\n",
       "  'score': -20.73061994717842},\n",
       " {'tweet_id': 1237040928092639232,\n",
       "  'class': 'yes',\n",
       "  'score': -90.60313602066111},\n",
       " {'tweet_id': 1237608143519014913,\n",
       "  'class': 'yes',\n",
       "  'score': -21.867996540885656},\n",
       " {'tweet_id': 1237024126889385986,\n",
       "  'class': 'yes',\n",
       "  'score': -23.31141383313125},\n",
       " {'tweet_id': 1236759873884479490,\n",
       "  'class': 'no',\n",
       "  'score': -61.304593046408186},\n",
       " {'tweet_id': 1237015945186398208,\n",
       "  'class': 'yes',\n",
       "  'score': -38.621925871519856},\n",
       " {'tweet_id': 1237124933211348992, 'class': 'no', 'score': -92.31939765733469},\n",
       " {'tweet_id': 1237330231293288449,\n",
       "  'class': 'yes',\n",
       "  'score': -88.67973804861252},\n",
       " {'tweet_id': 1237460074123190273,\n",
       "  'class': 'yes',\n",
       "  'score': -115.35442016809787},\n",
       " {'tweet_id': 1236386465086615557,\n",
       "  'class': 'no',\n",
       "  'score': -34.154421188107676},\n",
       " {'tweet_id': 1237047503029178370,\n",
       "  'class': 'yes',\n",
       "  'score': -103.75548555820141},\n",
       " {'tweet_id': 1237263600584216577,\n",
       "  'class': 'yes',\n",
       "  'score': -78.93858316767403},\n",
       " {'tweet_id': 1236509612142145536,\n",
       "  'class': 'yes',\n",
       "  'score': -46.75974489590967},\n",
       " {'tweet_id': 1237326787111239681, 'class': 'no', 'score': -47.92481097055638},\n",
       " {'tweet_id': 1237373539176628225,\n",
       "  'class': 'yes',\n",
       "  'score': -86.47920595168621},\n",
       " {'tweet_id': 1237562584477265920,\n",
       "  'class': 'yes',\n",
       "  'score': -81.12885866901713},\n",
       " {'tweet_id': 1237077247636496385,\n",
       "  'class': 'yes',\n",
       "  'score': -37.27455703767788},\n",
       " {'tweet_id': 1237560750102556672,\n",
       "  'class': 'yes',\n",
       "  'score': -92.96635853938646},\n",
       " {'tweet_id': 1236973636751425536,\n",
       "  'class': 'yes',\n",
       "  'score': -54.717035249247374},\n",
       " {'tweet_id': 1236992946509094913,\n",
       "  'class': 'yes',\n",
       "  'score': -69.08218702002313}]"
      ]
     },
     "metadata": {},
     "execution_count": 2
    }
   ],
   "source": [
    "from OV_MultinomialNB import OV_MultinomialNB\n",
    "from FV_MultinomialNB import FV_MultinomialNB\n",
    "\n",
    "model = OV_MultinomialNB()\n",
    "model.fit('covid_training.tsv')\n",
    "model.predict('covid_test_public.tsv')\n"
   ]
  },
  {
   "cell_type": "code",
   "execution_count": null,
   "metadata": {},
   "outputs": [],
   "source": []
  }
 ]
}