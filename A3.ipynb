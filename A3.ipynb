{
 "metadata": {
  "language_info": {
   "codemirror_mode": {
    "name": "ipython",
    "version": 3
   },
   "file_extension": ".py",
   "mimetype": "text/x-python",
   "name": "python",
   "nbconvert_exporter": "python",
   "pygments_lexer": "ipython3",
   "version": "3.8.3-final"
  },
  "orig_nbformat": 2,
  "kernelspec": {
   "name": "python3",
   "display_name": "Python 3",
   "language": "python"
  }
 },
 "nbformat": 4,
 "nbformat_minor": 2,
 "cells": [
  {
   "cell_type": "code",
   "execution_count": 10,
   "metadata": {
    "tags": []
   },
   "outputs": [
    {
     "output_type": "stream",
     "name": "stdout",
     "text": [
      "399\n"
     ]
    }
   ],
   "source": [
    "from sklearn.feature_extraction.text import CountVectorizer\n",
    "from utils import read_ov\n",
    "\n",
    "vectorizer = CountVectorizer(lowercase=True)\n",
    "ov = read_ov('covid_training.tsv')\n",
    "\n",
    "rows = [row for row in ov.to_numpy()]\n",
    "\n",
    "tweet_ids = [row[0] for row in rows]\n",
    "tweets = [row[1].lower() for row in rows]\n",
    "q1_labels = [row[2] for row in rows]\n",
    "\n",
    "OV_tweets = vectorizer.fit_transform(tweets)\n",
    "\n",
    "# print(vectorizer.get_feature_names())\n",
    "# print(OV_tweets.toarray())\n",
    "print(len(q1_labels))"
   ]
  },
  {
   "cell_type": "code",
   "execution_count": 1,
   "metadata": {
    "tags": []
   },
   "outputs": [
    {
     "output_type": "execute_result",
     "data": {
      "text/plain": [
       "[{'tweet_id': 1236059762544070657, 'class': 'no', 'score': -57.84382694344637},\n",
       " {'tweet_id': 1236012995408470017,\n",
       "  'class': 'yes',\n",
       "  'score': -33.899586296017546},\n",
       " {'tweet_id': 1235711139620753408,\n",
       "  'class': 'yes',\n",
       "  'score': -39.45609427803733},\n",
       " {'tweet_id': 1235599671571009536,\n",
       "  'class': 'yes',\n",
       "  'score': -39.54602049505223},\n",
       " {'tweet_id': 1235831463121059840, 'class': 'yes', 'score': -45.0631885811298},\n",
       " {'tweet_id': 1235967176475111432,\n",
       "  'class': 'yes',\n",
       "  'score': -48.999942663869206},\n",
       " {'tweet_id': 1236056191324864515,\n",
       "  'class': 'yes',\n",
       "  'score': -61.85192087793844},\n",
       " {'tweet_id': 1235987075440283648,\n",
       "  'class': 'yes',\n",
       "  'score': -59.996163292585095},\n",
       " {'tweet_id': 1235959558058754048,\n",
       "  'class': 'yes',\n",
       "  'score': -31.031261696894983},\n",
       " {'tweet_id': 1235985070009221120,\n",
       "  'class': 'yes',\n",
       "  'score': -47.24948630210451}]"
      ]
     },
     "metadata": {},
     "execution_count": 1
    }
   ],
   "source": [
    "from OV_MultinomialNB import OV_MultinomialNB\n",
    "from FV_MultinomialNB import FV_MultinomialNB\n",
    "\n",
    "modelOV = OV_MultinomialNB()\n",
    "modelOV.fit('covid_training.tsv')\n",
    "modelOV.predict('covid_test_public.tsv')\n",
    "\n",
    "modelFV = FV_MultinomialNB()\n",
    "modelFV.fit('covid_training.tsv')\n",
    "modelFV.predict('covid_test_public.tsv')"
   ]
  },
  {
   "cell_type": "code",
   "execution_count": 3,
   "metadata": {},
   "outputs": [
    {
     "output_type": "execute_result",
     "data": {
      "text/plain": [
       "{'emily': 'chan'}"
      ]
     },
     "metadata": {},
     "execution_count": 3
    }
   ],
   "source": [
    "const = {\n",
    "    \"json\": \"file\",\n",
    "    \"emily\": \"chan\"\n",
    "}\n",
    "\n",
    "del const['json']\n",
    "\n",
    "const"
   ]
  },
  {
   "cell_type": "code",
   "execution_count": null,
   "metadata": {},
   "outputs": [],
   "source": []
  }
 ]
}