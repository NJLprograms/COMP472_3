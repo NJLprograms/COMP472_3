{
 "metadata": {
  "language_info": {
   "codemirror_mode": {
    "name": "ipython",
    "version": 3
   },
   "file_extension": ".py",
   "mimetype": "text/x-python",
   "name": "python",
   "nbconvert_exporter": "python",
   "pygments_lexer": "ipython3",
   "version": "3.8.3-final"
  },
  "orig_nbformat": 2,
  "kernelspec": {
   "name": "python3",
   "display_name": "Python 3.8.3 64-bit ('base': conda)",
   "metadata": {
    "interpreter": {
     "hash": "e0d100da2a8ea264dfb47a8430a9e30a2afabd950adf81b1e01ba12eb2b32acc"
    }
   }
  }
 },
 "nbformat": 4,
 "nbformat_minor": 2,
 "cells": [
  {
   "cell_type": "code",
   "execution_count": 28,
   "metadata": {},
   "outputs": [],
   "source": [
    "array = [1, 2, 3]\n",
    "\n",
    "def double(x):\n",
    "    return x * 2\n",
    "\n",
    "# print(list(map(double, array)))"
   ]
  },
  {
   "cell_type": "code",
   "execution_count": 30,
   "metadata": {},
   "outputs": [],
   "source": [
    "def tokenize_string(str):\n",
    "    return str.lower().split()\n",
    "\n",
    "# tokenize_string('I MISS GOING OUT :(')"
   ]
  },
  {
   "cell_type": "code",
   "execution_count": 34,
   "metadata": {},
   "outputs": [],
   "source": [
    "original_documents = [\n",
    "    [\"this\", \"is\", \"a\", \"doc\"],\n",
    "    [\"docs\", \"are\", \"grouped\", \"into\", \"a\", \"tuple\"]\n",
    "]\n",
    "\n",
    "def empty_word_bank(documents):\n",
    "    blank_word_bank = {}\n",
    "    for document in documents:\n",
    "        for word in document:\n",
    "            blank_word_bank[word] = 0\n",
    "    return blank_word_bank\n",
    "\n",
    "# empty_word_bank(original_documents)"
   ]
  },
  {
   "cell_type": "code",
   "execution_count": null,
   "metadata": {},
   "outputs": [],
   "source": []
  }
 ]
}